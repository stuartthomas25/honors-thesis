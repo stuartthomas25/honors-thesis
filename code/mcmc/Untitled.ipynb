{
 "cells": [
  {
   "cell_type": "code",
   "execution_count": 2,
   "metadata": {
    "ExecuteTime": {
     "end_time": "2020-09-22T15:12:08.502215Z",
     "start_time": "2020-09-22T15:12:08.121779Z"
    }
   },
   "outputs": [],
   "source": [
    "%load_ext cython\n"
   ]
  },
  {
   "cell_type": "code",
   "execution_count": null,
   "metadata": {},
   "outputs": [],
   "source": [
    "cython"
   ]
  },
  {
   "cell_type": "code",
   "execution_count": 33,
   "metadata": {
    "ExecuteTime": {
     "end_time": "2020-09-22T15:22:42.854020Z",
     "start_time": "2020-09-22T15:22:42.707385Z"
    }
   },
   "outputs": [],
   "source": [
    "%%cython -a -+ - sweep.cpp\n",
    "\n",
    "cdef extern from \"sweep.cpp\":\n",
    "    int test()\n",
    "print(test())"
   ]
  },
  {
   "cell_type": "code",
   "execution_count": 5,
   "metadata": {
    "ExecuteTime": {
     "end_time": "2020-09-22T15:12:43.218701Z",
     "start_time": "2020-09-22T15:12:43.197959Z"
    }
   },
   "outputs": [
    {
     "name": "stderr",
     "output_type": "stream",
     "text": [
      "\n",
      "Error compiling Cython file:\n",
      "------------------------------------------------------------\n",
      "...\n",
      "test()\n",
      "^\n",
      "------------------------------------------------------------\n",
      "\n",
      "/Users/Stuart/.ipython/cython/_cython_magic_f12679da4c189c45c40e1c306475e4ba.pyx:1:0: undeclared name not builtin: test\n"
     ]
    }
   ],
   "source": [
    "%%cython -a\n",
    "test()"
   ]
  },
  {
   "cell_type": "code",
   "execution_count": 17,
   "metadata": {
    "ExecuteTime": {
     "end_time": "2020-09-22T15:14:47.204284Z",
     "start_time": "2020-09-22T15:14:47.189261Z"
    }
   },
   "outputs": [
    {
     "data": {
      "text/plain": [
       "'/Users/Stuart/Desktop/thesis/code/mcmc'"
      ]
     },
     "execution_count": 17,
     "metadata": {},
     "output_type": "execute_result"
    }
   ],
   "source": [
    "import os\n",
    "os.getcwd()"
   ]
  },
  {
   "cell_type": "code",
   "execution_count": null,
   "metadata": {},
   "outputs": [],
   "source": []
  }
 ],
 "metadata": {
  "kernelspec": {
   "display_name": "Python 3",
   "language": "python",
   "name": "python3"
  },
  "language_info": {
   "codemirror_mode": {
    "name": "ipython",
    "version": 3
   },
   "file_extension": ".py",
   "mimetype": "text/x-python",
   "name": "python",
   "nbconvert_exporter": "python",
   "pygments_lexer": "ipython3",
   "version": "3.7.8"
  },
  "latex_envs": {
   "LaTeX_envs_menu_present": true,
   "autoclose": false,
   "autocomplete": true,
   "bibliofile": "biblio.bib",
   "cite_by": "apalike",
   "current_citInitial": 1,
   "eqLabelWithNumbers": true,
   "eqNumInitial": 1,
   "hotkeys": {
    "equation": "Ctrl-E",
    "itemize": "Ctrl-I"
   },
   "labels_anchors": false,
   "latex_user_defs": false,
   "report_style_numbering": false,
   "user_envs_cfg": false
  }
 },
 "nbformat": 4,
 "nbformat_minor": 4
}
